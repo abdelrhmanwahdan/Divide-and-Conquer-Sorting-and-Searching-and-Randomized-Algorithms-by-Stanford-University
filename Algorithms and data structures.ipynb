{
 "cells": [
  {
   "cell_type": "markdown",
   "id": "a0d31ee9",
   "metadata": {},
   "source": [
    "## Importing Libraries"
   ]
  },
  {
   "cell_type": "code",
   "execution_count": 1,
   "id": "73bb40b7",
   "metadata": {},
   "outputs": [],
   "source": [
    "import numpy as np\n",
    "from random import randint"
   ]
  },
  {
   "cell_type": "markdown",
   "id": "4a55b627",
   "metadata": {},
   "source": [
    "## The Karatsuba multiplication algorithm"
   ]
  },
  {
   "cell_type": "code",
   "execution_count": 2,
   "id": "7ac320e4",
   "metadata": {},
   "outputs": [],
   "source": [
    "def Karatsuba(x,y):\n",
    "    if len(str(x)) == 1 or len(str(y)) == 1:\n",
    "        return x*y\n",
    "    else:\n",
    "        n = max(len(str(x)), len(str(y)))\n",
    "        n_by_2 = n // 2\n",
    "        \n",
    "        a = x // 10**(n_by_2)\n",
    "        \n",
    "        b = x % 10**(n_by_2)\n",
    "        \n",
    "        c = y // 10**(n_by_2)\n",
    "        \n",
    "        d = y % 10**(n_by_2)\n",
    "        \n",
    "        ac = Karatsuba(a,c)\n",
    "        \n",
    "        bd = Karatsuba(b,d)\n",
    "        \n",
    "        ad_bc = Karatsuba(a+b,c+d) - ac - bd\n",
    "        \n",
    "        prod = ac * 10**(2*n_by_2) + ad_bc * 10**(n_by_2) + bd\n",
    "        \n",
    "        return prod"
   ]
  },
  {
   "cell_type": "code",
   "execution_count": 3,
   "id": "326a2176",
   "metadata": {},
   "outputs": [
    {
     "name": "stdout",
     "output_type": "stream",
     "text": [
      "853973422267356706546355086954657449503488853576511496187960112823660423113059429982279868489789394704899114616293542381851926361\n",
      "True\n"
     ]
    }
   ],
   "source": [
    "# testing the karatsuba multplication algorithm\n",
    "x = 314159265358979323846264338327950288419716939937510582097494459243\n",
    "y = 2718281828459045235360287471352662497757247093699959574966967627\n",
    "\n",
    "print(Karatsuba(x,y))\n",
    "print(Karatsuba(x,y) == x*y)"
   ]
  },
  {
   "cell_type": "markdown",
   "id": "d4afb8e5",
   "metadata": {},
   "source": [
    "## Merge sort with inversions"
   ]
  },
  {
   "cell_type": "code",
   "execution_count": 4,
   "id": "824b2aed",
   "metadata": {},
   "outputs": [],
   "source": [
    "def mergeSortInversions(a):\n",
    "    n = len(a)\n",
    "    if n <= 1:\n",
    "        return a, 0\n",
    "    \n",
    "    else:\n",
    "        left, left_inversions = mergeSortInversions(a[ : n//2])\n",
    "        right, right_inversions = mergeSortInversions(a[n//2 : ])\n",
    "        \n",
    "        output = []\n",
    "        i = j =  0\n",
    "        inversions = 0 + left_inversions + right_inversions\n",
    "        \n",
    "        while i < len(left) and j < len(right):\n",
    "            \n",
    "            if left[i] <= right[j]:\n",
    "                output.append(left[i])\n",
    "                i+=1\n",
    "                \n",
    "            else:\n",
    "                output.append(right[j])\n",
    "                j+=1\n",
    "                inversions += len(left) - i\n",
    "                \n",
    "        output.extend(left[i:])\n",
    "        output.extend(right[j:])\n",
    "        \n",
    "        return output, inversions\n",
    "        "
   ]
  },
  {
   "cell_type": "code",
   "execution_count": 5,
   "id": "9d0bd8d6",
   "metadata": {},
   "outputs": [
    {
     "name": "stdout",
     "output_type": "stream",
     "text": [
      "13\n",
      "[1, 2, 2, 3, 3, 4, 5, 6, 9]\n"
     ]
    }
   ],
   "source": [
    "# testing the merge sort algorithm\n",
    "a = [1,3,5,2,4,6, 9, 3, 2]\n",
    "output, inversions = mergeSortInversions(a)\n",
    "print(inversions)\n",
    "print(output)"
   ]
  },
  {
   "cell_type": "code",
   "execution_count": 6,
   "id": "59c41fbd",
   "metadata": {},
   "outputs": [
    {
     "data": {
      "text/plain": [
       "2407905288"
      ]
     },
     "execution_count": 6,
     "metadata": {},
     "output_type": "execute_result"
    }
   ],
   "source": [
    "# additional test with bigger list\n",
    "with open('IntegerArray.txt') as f:\n",
    "    lines = f.readlines()\n",
    "    \n",
    "lines = [int(l) for l in lines]\n",
    "output, inversions= mergeSortInversions(lines)\n",
    "inversions"
   ]
  },
  {
   "cell_type": "markdown",
   "id": "93375172",
   "metadata": {},
   "source": [
    "## Quick Sort"
   ]
  },
  {
   "cell_type": "markdown",
   "id": "13b7f192",
   "metadata": {},
   "source": [
    "### First element pivot"
   ]
  },
  {
   "cell_type": "code",
   "execution_count": 7,
   "id": "efb4beb7",
   "metadata": {},
   "outputs": [],
   "source": [
    "def quickSort(listToSort):\n",
    "    \n",
    "    sizeList = len(listToSort)\n",
    "    nbComparaison = 0\n",
    "    \n",
    "    if sizeList < 2:\n",
    "        return listToSort, 0\n",
    "    \n",
    "    else:\n",
    "        i = 0\n",
    "        j = 1\n",
    "        \n",
    "        while j < sizeList:\n",
    "            \n",
    "            if listToSort[j] < listToSort[0]:\n",
    "                i += 1\n",
    "                listToSort[i],listToSort[j]  = listToSort[j], listToSort[i]\n",
    "                \n",
    "            j += 1 \n",
    "\n",
    "        listToSort[i],listToSort[0] = listToSort[0], listToSort[i]\n",
    "\n",
    "        if len(listToSort[:i]) > 0:\n",
    "            listToSort[:i], nbComparaisonSs1 = quickSort(listToSort[:i])\n",
    "            nbComparaison += len(listToSort[:i]) + nbComparaisonSs1\n",
    "            \n",
    "        if len(listToSort[i+1:]) > 0:\n",
    "            listToSort[i+1:], nbComparaisonSs2 = quickSort(listToSort[i+1:])\n",
    "            nbComparaison += len(listToSort[i+1:]) + nbComparaisonSs2\n",
    "            \n",
    "        return listToSort, nbComparaison"
   ]
  },
  {
   "cell_type": "code",
   "execution_count": 8,
   "id": "26273838",
   "metadata": {},
   "outputs": [
    {
     "name": "stdout",
     "output_type": "stream",
     "text": [
      "162085\n"
     ]
    }
   ],
   "source": [
    "# testing quickSort\n",
    "with open('QuickSort.txt') as f:\n",
    "    lines = f.readlines()\n",
    "    \n",
    "lines = [int(l) for l in lines]\n",
    "listToSort1, nbComparaison1 = quickSort(lines)\n",
    "print(nbComparaison1)\n"
   ]
  },
  {
   "cell_type": "markdown",
   "id": "fbe8c109",
   "metadata": {},
   "source": [
    "### last element pivot"
   ]
  },
  {
   "cell_type": "code",
   "execution_count": 9,
   "id": "3af64167",
   "metadata": {},
   "outputs": [],
   "source": [
    "def quickSort2(listToSort):\n",
    "    \n",
    "    sizeList = len(listToSort)\n",
    "    nbComparaison = 0\n",
    "    \n",
    "    if sizeList < 2:\n",
    "        return listToSort, 0\n",
    "    \n",
    "    else:\n",
    "        listToSort[-1], listToSort[0] = listToSort[0], listToSort[-1]\n",
    "        i = 0\n",
    "        j = 1\n",
    "        \n",
    "        while j < sizeList:\n",
    "            \n",
    "            if listToSort[j] < listToSort[0]:\n",
    "                i += 1\n",
    "                listToSort[i], listToSort[j] = listToSort[j], listToSort[i]\n",
    "                \n",
    "            j += 1 \n",
    "            \n",
    "        listToSort[i],listToSort[0] = listToSort[0], listToSort[i]\n",
    "        \n",
    "        if len(listToSort[:i]) > 0:\n",
    "            listToSort[:i], nbComparaisonSs1 = quickSort2(listToSort[:i])\n",
    "            nbComparaison += len(listToSort[:i]) + nbComparaisonSs1\n",
    "            \n",
    "        if len(listToSort[i+1:]) > 0:\n",
    "            listToSort[i+1:], nbComparaisonSs2 = quickSort2(listToSort[i+1:])\n",
    "            nbComparaison += len(listToSort[i+1:]) + nbComparaisonSs2\n",
    "            \n",
    "        return listToSort, nbComparaison"
   ]
  },
  {
   "cell_type": "code",
   "execution_count": 10,
   "id": "45f00063",
   "metadata": {},
   "outputs": [
    {
     "name": "stdout",
     "output_type": "stream",
     "text": [
      "162085\n"
     ]
    }
   ],
   "source": [
    "# testing quickSort2\n",
    "with open('QuickSort.txt') as f:\n",
    "    lines = f.readlines()\n",
    "    \n",
    "lines = [int(l) for l in lines]\n",
    "listToSort1, nbComparaison1 = quickSort(lines)\n",
    "print(nbComparaison1)\n"
   ]
  },
  {
   "cell_type": "markdown",
   "id": "446cc7bb",
   "metadata": {},
   "source": [
    "### Median pivot"
   ]
  },
  {
   "cell_type": "code",
   "execution_count": 11,
   "id": "f79067be",
   "metadata": {},
   "outputs": [],
   "source": [
    "def quickSort3(listToSort):\n",
    "    sizeList = len(listToSort)\n",
    "    nbComparaison = 0\n",
    "    \n",
    "    if sizeList < 2:\n",
    "        return listToSort, 0\n",
    "    \n",
    "    else:\n",
    "        listCandidat = []\n",
    "\n",
    "        #even case\n",
    "        if (sizeList % 2 == 0):\n",
    "            mid = (sizeList//2)-1\n",
    "            \n",
    "        #odd case\n",
    "        else: \n",
    "            mid = sizeList//2\n",
    "            \n",
    "        #low\n",
    "        listCandidat.append(listToSort[0])\n",
    "        \n",
    "        #mid\n",
    "        listCandidat.append(listToSort[mid])\n",
    "        \n",
    "        #high\n",
    "        listCandidat.append(listToSort[-1])\n",
    "        iMedian = np.argsort(listCandidat)[len(listCandidat)//2]\n",
    "        \n",
    "        if (iMedian == 0):\n",
    "            tmp = listToSort[0]\n",
    "            listToSort[0] = listToSort[0]\n",
    "            listToSort[0] = tmp\n",
    "            \n",
    "        elif (iMedian == 1):\n",
    "            tmp = listToSort[mid]\n",
    "            listToSort[mid] = listToSort[0]\n",
    "            listToSort[0] = tmp\n",
    "            \n",
    "        elif (iMedian == 2):\n",
    "            tmp = listToSort[-1]\n",
    "            listToSort[-1] = listToSort[0]\n",
    "            listToSort[0] = tmp\n",
    "            \n",
    "        pivot = listToSort[0]\n",
    "        i = 0\n",
    "        j = 1\n",
    "        \n",
    "        while j < sizeList:\n",
    "            \n",
    "            if listToSort[j] < pivot:\n",
    "                i += 1\n",
    "                tmp = listToSort[i]\n",
    "                listToSort[i] = listToSort[j]\n",
    "                listToSort[j] = tmp\n",
    "                \n",
    "            j += 1 \n",
    "            \n",
    "        tmp = listToSort[i]\n",
    "        listToSort[i] = pivot\n",
    "        listToSort[0] = tmp\n",
    "        \n",
    "        if len(listToSort[:i]) > 0:\n",
    "            listToSort[:i], nbComparaisonSs1 = quickSort3(listToSort[:i])\n",
    "            nbComparaison = nbComparaison + (len(listToSort[:i]) + nbComparaisonSs1)\n",
    "            \n",
    "        if len(listToSort[i+1:]) > 0:\n",
    "            listToSort[i+1:], nbComparaisonSs2 = quickSort3(listToSort[i+1:])\n",
    "            nbComparaison = nbComparaison + (len(listToSort[i+1:]) + nbComparaisonSs2)\n",
    "            \n",
    "        return listToSort, nbComparaison"
   ]
  },
  {
   "cell_type": "code",
   "execution_count": 12,
   "id": "5bb027ff",
   "metadata": {},
   "outputs": [
    {
     "name": "stdout",
     "output_type": "stream",
     "text": [
      "138382\n"
     ]
    }
   ],
   "source": [
    "# testing quickSort3\n",
    "with open('QuickSort.txt') as f:\n",
    "    lines = f.readlines()\n",
    "    \n",
    "lines = [int(l) for l in lines]\n",
    "listToSort3, nbComparaison3 = quickSort3(lines)\n",
    "print(nbComparaison3)"
   ]
  },
  {
   "cell_type": "markdown",
   "id": "655761f7",
   "metadata": {},
   "source": [
    "## Karger Minimum cut algorithm"
   ]
  },
  {
   "cell_type": "code",
   "execution_count": 13,
   "id": "747fbb8a",
   "metadata": {},
   "outputs": [],
   "source": [
    "class KargerMinCutter:\n",
    "    \n",
    "    def __init__(self, graph_file):\n",
    "        \n",
    "        self._graph = {}\n",
    "        self._total_edges = 0\n",
    "        \n",
    "        with open(graph_file) as file:\n",
    "            \n",
    "            for index, line in enumerate(file):\n",
    "                numbers = [int(number) for number in line.split()]\n",
    "                self._graph[numbers[0]] = numbers[1:]\n",
    "                self._total_edges += len(numbers[1:])\n",
    "\n",
    "    def find_min_cut(self):\n",
    "        \n",
    "        min_cut = 0\n",
    "        \n",
    "        while len(self._graph) > 2:\n",
    "            v1, v2 = self._pick_random_edge()\n",
    "            self._total_edges -= len(self._graph[v1])\n",
    "            self._total_edges -= len(self._graph[v2])\n",
    "            self._graph[v1].extend(self._graph[v2])\n",
    "            \n",
    "            for vertex in self._graph[v2]:\n",
    "                self._graph[vertex].remove(v2)\n",
    "                self._graph[vertex].append(v1)\n",
    "                \n",
    "            self._graph[v1] = list(filter(lambda v: v != v1, self._graph[v1]))\n",
    "            self._total_edges += len(self._graph[v1])\n",
    "            self._graph.pop(v2)\n",
    "            \n",
    "        for edges in self._graph.values():\n",
    "            min_cut = len(edges)\n",
    "            \n",
    "        return min_cut\n",
    "\n",
    "    def _pick_random_edge(self):\n",
    "        \n",
    "        rand_edge = randint(0, self._total_edges - 1)\n",
    "        \n",
    "        for vertex, vertex_edges in self._graph.items():\n",
    "            \n",
    "            if len(vertex_edges) <= rand_edge:\n",
    "                rand_edge -= len(vertex_edges)\n",
    "                \n",
    "            else:\n",
    "                from_vertex = vertex\n",
    "                to_vertex = vertex_edges[rand_edge]\n",
    "                \n",
    "                return from_vertex, to_vertex\n",
    "\n"
   ]
  },
  {
   "cell_type": "code",
   "execution_count": 14,
   "id": "c8241cd5",
   "metadata": {},
   "outputs": [
    {
     "name": "stdout",
     "output_type": "stream",
     "text": [
      "17\n"
     ]
    }
   ],
   "source": [
    "# testing KargerMinCutter\n",
    "min_cut = 99999\n",
    "for i in range(4000):\n",
    "    min_cutter = KargerMinCutter('kargerMinCut.txt')\n",
    "    cut = min_cutter.find_min_cut()\n",
    "    if cut < min_cut:\n",
    "        min_cut = cut\n",
    "print(min_cut)"
   ]
  },
  {
   "cell_type": "code",
   "execution_count": null,
   "id": "8646beae",
   "metadata": {},
   "outputs": [],
   "source": []
  }
 ],
 "metadata": {
  "kernelspec": {
   "display_name": "Python 3 (ipykernel)",
   "language": "python",
   "name": "python3"
  },
  "language_info": {
   "codemirror_mode": {
    "name": "ipython",
    "version": 3
   },
   "file_extension": ".py",
   "mimetype": "text/x-python",
   "name": "python",
   "nbconvert_exporter": "python",
   "pygments_lexer": "ipython3",
   "version": "3.9.7"
  }
 },
 "nbformat": 4,
 "nbformat_minor": 5
}
